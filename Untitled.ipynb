{
 "cells": [
  {
   "cell_type": "code",
   "execution_count": 9,
   "id": "3e1ac99e-743d-4ccb-8cf0-b0650e22d92a",
   "metadata": {
    "tags": []
   },
   "outputs": [
    {
     "data": {
      "text/plain": [
       "'/Users/margaretwanjiku/Desktop/Pixy_Project'"
      ]
     },
     "execution_count": 9,
     "metadata": {},
     "output_type": "execute_result"
    }
   ],
   "source": [
    "pwd"
   ]
  },
  {
   "cell_type": "code",
   "execution_count": 38,
   "id": "50bd5a94-028a-4b3e-999f-e6aeee0e8cf5",
   "metadata": {
    "tags": []
   },
   "outputs": [
    {
     "name": "stdout",
     "output_type": "stream",
     "text": [
      "Populations file without header has been created: pop_file.txt\n"
     ]
    }
   ],
   "source": [
    "# Replace 'simulated_vcf.vcf' with the actual path to your simulated VCF file\n",
    "# This piece of code creates a headerless populations file \n",
    "# (with sample IDs and population IDs) from a simulated vcf file \n",
    "# and outputs a tab-delimited file without using python modules. \n",
    "# And the line with sample IDs start with #CHROM\n",
    "\n",
    "\n",
    "vcf_file_path = './VCFSimulator-SamukLab/diploid_files/file98123.txt'\n",
    "\n",
    "# Open the VCF file for reading\n",
    "with open(vcf_file_path, 'r') as vcf_file:\n",
    "    # Open the output file for writing\n",
    "    with open('./VCFSimulator-SamukLab/diploid_files/pop_file.txt', 'w') as output_file:\n",
    "        # Iterate through each line in the VCF file\n",
    "        for line in vcf_file:\n",
    "            # Skip lines that do not start with #CHROM\n",
    "            if not line.startswith('#CHROM'):\n",
    "                continue\n",
    "            \n",
    "            # Split the line into fields\n",
    "            fields = line.strip().split('\\t')\n",
    "\n",
    "            # Extract sample IDs starting from the 10th column\n",
    "            sample_ids = fields[9:]\n",
    "\n",
    "            # Iterate through sample IDs and write to the output file\n",
    "            for sample_id in sample_ids:\n",
    "                # Extract population from the sample ID\n",
    "                population = sample_id.split('_')[0]  # Assuming population is before the first underscore\n",
    "\n",
    "                # Write sample ID and population to the output file without a header\n",
    "                output_file.write(f\"{sample_id}\\t{population}\\n\")\n",
    "\n",
    "print(\"Populations file without header has been created: pop_file.txt\")\n"
   ]
  },
  {
   "cell_type": "code",
   "execution_count": null,
   "id": "53ec608b-12c8-4d9c-8e06-3d059bacef82",
   "metadata": {},
   "outputs": [],
   "source": []
  }
 ],
 "metadata": {
  "kernelspec": {
   "display_name": "Python 3 (ipykernel)",
   "language": "python",
   "name": "python3"
  },
  "language_info": {
   "codemirror_mode": {
    "name": "ipython",
    "version": 3
   },
   "file_extension": ".py",
   "mimetype": "text/x-python",
   "name": "python",
   "nbconvert_exporter": "python",
   "pygments_lexer": "ipython3",
   "version": "3.11.4"
  }
 },
 "nbformat": 4,
 "nbformat_minor": 5
}
